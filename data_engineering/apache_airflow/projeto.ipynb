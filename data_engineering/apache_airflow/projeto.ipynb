{
 "cells": [
  {
   "cell_type": "code",
   "execution_count": null,
   "metadata": {},
   "outputs": [],
   "source": [
    "# API_key\n",
    "# sUiz2yamLyK4iZB4ARdYhl3Tx\n",
    "\n",
    "# API_key_secret\n",
    "# 7unsbj42EHkNuUxDwXyqig9573JJeBsIjF84946776qmnO7BMv\n",
    "\n",
    "# Bearer_token\n",
    "# AAAAAAAAAAAAAAAAAAAAACRNWAEAAAAAdDbreki4HX59BFtmqTUwok6ZqR4%3DKm2nuuiwtlhqXpbeZuTrxk634vR1liSVQGSebYOnSNpVPQsVqW"
   ]
  },
  {
   "cell_type": "code",
   "execution_count": null,
   "metadata": {},
   "outputs": [],
   "source": []
  }
 ],
 "metadata": {
  "interpreter": {
   "hash": "44fbd7004c3016cd7534cf0f1edc719ec93b2873ebadbff0fa25fc2ae14dd33d"
  },
  "kernelspec": {
   "display_name": "Python 3.9.7 64-bit (system)",
   "language": "python",
   "name": "python3"
  },
  "language_info": {
   "name": "python",
   "version": "3.9.7"
  },
  "orig_nbformat": 4
 },
 "nbformat": 4,
 "nbformat_minor": 2
}
