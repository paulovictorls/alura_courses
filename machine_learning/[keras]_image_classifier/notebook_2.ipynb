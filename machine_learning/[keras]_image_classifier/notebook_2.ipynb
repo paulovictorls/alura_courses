{
 "cells": [
  {
   "cell_type": "markdown",
   "metadata": {
    "colab_type": "text",
    "id": "sNc3NouWYrN7"
   },
   "source": [
    "Imports"
   ]
  },
  {
   "cell_type": "code",
   "execution_count": 1,
   "metadata": {
    "colab": {},
    "colab_type": "code",
    "id": "4bQCahYjYdUB"
   },
   "outputs": [],
   "source": [
    "import tensorflow\n",
    "from tensorflow import keras\n",
    "import matplotlib.pyplot as plt\n",
    "import numpy as np\n",
    "from tensorflow.keras.models import load_model"
   ]
  },
  {
   "cell_type": "markdown",
   "metadata": {
    "colab_type": "text",
    "id": "f8uuzUjVYvkf"
   },
   "source": [
    "Carregando o dataset"
   ]
  },
  {
   "cell_type": "code",
   "execution_count": 3,
   "metadata": {
    "colab": {},
    "colab_type": "code",
    "id": "QoIys3wMYirH"
   },
   "outputs": [
    {
     "name": "stdout",
     "output_type": "stream",
     "text": [
      "Downloading data from https://storage.googleapis.com/tensorflow/tf-keras-datasets/train-labels-idx1-ubyte.gz\n",
      "32768/29515 [=================================] - 0s 3us/step\n",
      "40960/29515 [=========================================] - 0s 2us/step\n",
      "Downloading data from https://storage.googleapis.com/tensorflow/tf-keras-datasets/train-images-idx3-ubyte.gz\n",
      "26427392/26421880 [==============================] - 2s 0us/step\n",
      "26435584/26421880 [==============================] - 2s 0us/step\n",
      "Downloading data from https://storage.googleapis.com/tensorflow/tf-keras-datasets/t10k-labels-idx1-ubyte.gz\n",
      "16384/5148 [===============================================================================================] - 0s 0s/step\n",
      "Downloading data from https://storage.googleapis.com/tensorflow/tf-keras-datasets/t10k-images-idx3-ubyte.gz\n",
      "4423680/4422102 [==============================] - 1s 0us/step\n",
      "4431872/4422102 [==============================] - 1s 0us/step\n"
     ]
    }
   ],
   "source": [
    "dataset = keras.datasets.fashion_mnist\n",
    "((imagens_treino, identificacoes_treino), (imagens_teste, identificacoes_teste)) = dataset.load_data()\n"
   ]
  },
  {
   "cell_type": "markdown",
   "metadata": {
    "colab_type": "text",
    "id": "oFr0526ZY5E_"
   },
   "source": [
    "Exploração dos dados"
   ]
  },
  {
   "cell_type": "code",
   "execution_count": 4,
   "metadata": {
    "colab": {
     "base_uri": "https://localhost:8080/",
     "height": 35
    },
    "colab_type": "code",
    "executionInfo": {
     "elapsed": 1479,
     "status": "ok",
     "timestamp": 1545137955774,
     "user": {
      "displayName": "Cássia Sampaio",
      "photoUrl": "https://lh5.googleusercontent.com/-WZZI20Ykt7M/AAAAAAAAAAI/AAAAAAAAAlI/NPtGozqQ-38/s64/photo.jpg",
      "userId": "11135730660253677021"
     },
     "user_tz": 120
    },
    "id": "fPIT36hpYl5A",
    "outputId": "812c2fcc-0c28-431b-91b8-1e64a05f31e8"
   },
   "outputs": [
    {
     "data": {
      "text/plain": [
       "9"
      ]
     },
     "execution_count": 4,
     "metadata": {},
     "output_type": "execute_result"
    }
   ],
   "source": [
    "len(imagens_treino)\n",
    "imagens_treino.shape\n",
    "imagens_teste.shape\n",
    "len(identificacoes_teste)\n",
    "identificacoes_treino.min()\n",
    "identificacoes_treino.max()"
   ]
  },
  {
   "cell_type": "markdown",
   "metadata": {
    "colab_type": "text",
    "id": "yTWqT9DIY-iB"
   },
   "source": [
    "Exibição dos dados"
   ]
  },
  {
   "cell_type": "code",
   "execution_count": 27,
   "metadata": {
    "colab": {
     "base_uri": "https://localhost:8080/",
     "height": 365
    },
    "colab_type": "code",
    "executionInfo": {
     "elapsed": 1699,
     "status": "ok",
     "timestamp": 1545137956003,
     "user": {
      "displayName": "Cássia Sampaio",
      "photoUrl": "https://lh5.googleusercontent.com/-WZZI20Ykt7M/AAAAAAAAAAI/AAAAAAAAAlI/NPtGozqQ-38/s64/photo.jpg",
      "userId": "11135730660253677021"
     },
     "user_tz": 120
    },
    "id": "bGESm49JVahh",
    "outputId": "25be141d-aa74-45fc-da00-f38b9a8f3039"
   },
   "outputs": [
    {
     "data": {
      "text/plain": [
       "<matplotlib.colorbar.Colorbar at 0x2998baca6a0>"
      ]
     },
     "execution_count": 27,
     "metadata": {},
     "output_type": "execute_result"
    },
    {
     "data": {
      "image/png": "[encoded data removed]",
      "text/plain": [
       "<Figure size 432x288 with 2 Axes>"
      ]
     },
     "metadata": {
      "needs_background": "light"
     },
     "output_type": "display_data"
    }
   ],
   "source": [
    "total_de_classificacoes = 10\n",
    "nomes_de_classificacoes = ['Camiseta', 'Calça', 'Pullover', \n",
    "                           'Vestido', 'Casaco', 'Sandália', 'Camisa',\n",
    "                           'Tênis', 'Bolsa', 'Bota']\n",
    "\n",
    "plt.imshow(imagens_treino[0])\n",
    "plt.colorbar()"
   ]
  },
  {
   "cell_type": "markdown",
   "metadata": {
    "colab_type": "text",
    "id": "uU6ZySpIcoc5"
   },
   "source": [
    "Normalizando as imagens"
   ]
  },
  {
   "cell_type": "code",
   "execution_count": 6,
   "metadata": {
    "colab": {},
    "colab_type": "code",
    "id": "Ral_hdl9ulGG"
   },
   "outputs": [],
   "source": [
    "imagens_treino = imagens_treino/float(255)"
   ]
  },
  {
   "cell_type": "markdown",
   "metadata": {
    "colab_type": "text",
    "id": "2WABnvOJdCNl"
   },
   "source": [
    "Criando, compilando, treinando e normalizando o modelo"
   ]
  },
  {
   "cell_type": "code",
   "execution_count": 7,
   "metadata": {
    "colab": {
     "base_uri": "https://localhost:8080/",
     "height": 228
    },
    "colab_type": "code",
    "executionInfo": {
     "elapsed": 11713,
     "status": "ok",
     "timestamp": 1545143728581,
     "user": {
      "displayName": "Cássia Sampaio",
      "photoUrl": "https://lh5.googleusercontent.com/-WZZI20Ykt7M/AAAAAAAAAAI/AAAAAAAAAlI/NPtGozqQ-38/s64/photo.jpg",
      "userId": "11135730660253677021"
     },
     "user_tz": 120
    },
    "id": "uFedwlfFc0ii",
    "outputId": "b2115202-893b-4830-d587-5b6608639925"
   },
   "outputs": [
    {
     "name": "stderr",
     "output_type": "stream",
     "text": [
      "C:\\Users\\PV\\AppData\\Roaming\\Python\\Python39\\site-packages\\keras\\optimizer_v2\\adam.py:105: UserWarning: The `lr` argument is deprecated, use `learning_rate` instead.\n",
      "  super(Adam, self).__init__(name, **kwargs)\n"
     ]
    },
    {
     "name": "stdout",
     "output_type": "stream",
     "text": [
      "Epoch 1/5\n",
      "100/100 [==============================] - 1s 8ms/step - loss: 0.6436 - accuracy: 0.7747 - val_loss: 0.4579 - val_accuracy: 0.8340\n",
      "Epoch 2/5\n",
      "100/100 [==============================] - 1s 5ms/step - loss: 0.4380 - accuracy: 0.8454 - val_loss: 0.4012 - val_accuracy: 0.8577\n"
     ]
    }
   ],
   "source": [
    "modelo = keras.Sequential([ \n",
    "    keras.layers.Flatten(input_shape=(28, 28)),\n",
    "    keras.layers.Dense(256, activation=tensorflow.nn.relu),\n",
    "    keras.layers.Dropout(0.2),\n",
    "    keras.layers.Dense(10, activation=tensorflow.nn.softmax)\n",
    "])\n",
    "\n",
    "adam = keras.optimizers.Adam(lr=0.002)\n",
    "\n",
    "'''lr\n",
    "learning rate\n",
    "taxa de aprendizado'''\n",
    "\n",
    "parando_cedo = [keras.callbacks.EarlyStopping(monitor='val_loss'),\n",
    "                keras.callbacks.ModelCheckpoint(filepath='melhor_modelo.hdf5',\n",
    "                                               monitor='val_loss', save_best_only=True)]\n",
    "\n",
    "modelo.compile(optimizer=adam, \n",
    "               loss='sparse_categorical_crossentropy',\n",
    "               metrics=['accuracy'])\n",
    "\n",
    "historico = modelo.fit(imagens_treino, identificacoes_treino, \n",
    "                       batch_size = 480,\n",
    "                       epochs=5, validation_split=0.2,\n",
    "                       callbacks=parando_cedo)"
   ]
  },
  {
   "cell_type": "markdown",
   "metadata": {
    "colab_type": "text",
    "id": "sd2k5eXndvza"
   },
   "source": []
  },
  {
   "cell_type": "markdown",
   "metadata": {
    "colab_type": "text",
    "id": "weeyzt2QuDXS"
   },
   "source": [
    "Sumário do modelo"
   ]
  },
  {
   "cell_type": "code",
   "execution_count": 8,
   "metadata": {
    "colab": {
     "base_uri": "https://localhost:8080/",
     "height": 277
    },
    "colab_type": "code",
    "executionInfo": {
     "elapsed": 51783,
     "status": "ok",
     "timestamp": 1545138006111,
     "user": {
      "displayName": "Cássia Sampaio",
      "photoUrl": "https://lh5.googleusercontent.com/-WZZI20Ykt7M/AAAAAAAAAAI/AAAAAAAAAlI/NPtGozqQ-38/s64/photo.jpg",
      "userId": "11135730660253677021"
     },
     "user_tz": 120
    },
    "id": "QLG_CH6Lr2vp",
    "outputId": "cb5ca991-99c3-41e8-d71a-81dedae12cb4"
   },
   "outputs": [
    {
     "name": "stdout",
     "output_type": "stream",
     "text": [
      "Model: \"sequential\"\n",
      "_________________________________________________________________\n",
      " Layer (type)                Output Shape              Param #   \n",
      "=================================================================\n",
      " flatten (Flatten)           (None, 784)               0         \n",
      "                                                                 \n",
      " dense (Dense)               (None, 256)               200960    \n",
      "                                                                 \n",
      " dropout (Dropout)           (None, 256)               0         \n",
      "                                                                 \n",
      " dense_1 (Dense)             (None, 10)                2570      \n",
      "                                                                 \n",
      "=================================================================\n",
      "Total params: 203,530\n",
      "Trainable params: 203,530\n",
      "Non-trainable params: 0\n",
      "_________________________________________________________________\n"
     ]
    }
   ],
   "source": [
    "sumario_do_modelo = modelo.summary()"
   ]
  },
  {
   "cell_type": "markdown",
   "metadata": {
    "colab_type": "text",
    "id": "GVuSQg42udch"
   },
   "source": [
    "Pesos da primeira camada Dense"
   ]
  },
  {
   "cell_type": "code",
   "execution_count": 9,
   "metadata": {
    "colab": {
     "base_uri": "https://localhost:8080/",
     "height": 243
    },
    "colab_type": "code",
    "executionInfo": {
     "elapsed": 51780,
     "status": "ok",
     "timestamp": 1545138006114,
     "user": {
      "displayName": "Cássia Sampaio",
      "photoUrl": "https://lh5.googleusercontent.com/-WZZI20Ykt7M/AAAAAAAAAAI/AAAAAAAAAlI/NPtGozqQ-38/s64/photo.jpg",
      "userId": "11135730660253677021"
     },
     "user_tz": 120
    },
    "id": "YRzqJi5gr-ug",
    "outputId": "acb8a25a-268c-4a93-da4c-697b0e6c071b"
   },
   "outputs": [
    {
     "data": {
      "text/plain": [
       "array([[ 0.00927886,  0.03064074, -0.06874281, ...,  0.04026292,\n",
       "        -0.04643922,  0.02304983],\n",
       "       [ 0.00177039,  0.01719159, -0.03199739, ..., -0.03019108,\n",
       "         0.07265308, -0.00890136],\n",
       "       [-0.00112666,  0.01481988, -0.00362731, ..., -0.00213963,\n",
       "        -0.03386961,  0.03170851],\n",
       "       ...,\n",
       "       [ 0.06330126, -0.03768066,  0.06580237, ...,  0.07945216,\n",
       "         0.01732094, -0.05304563],\n",
       "       [ 0.07068977,  0.02515499,  0.03126472, ...,  0.01711445,\n",
       "         0.00388414, -0.01375429],\n",
       "       [ 0.07780433, -0.02836278,  0.02486101, ...,  0.01924247,\n",
       "         0.03449529, -0.0162335 ]], dtype=float32)"
      ]
     },
     "execution_count": 9,
     "metadata": {},
     "output_type": "execute_result"
    }
   ],
   "source": [
    "pesos_camada_dense = modelo.layers[1].get_weights()[0]\n",
    "pesos_camada_dense"
   ]
  },
  {
   "cell_type": "code",
   "execution_count": 11,
   "metadata": {
    "colab": {
     "base_uri": "https://localhost:8080/",
     "height": 235
    },
    "colab_type": "code",
    "executionInfo": {
     "elapsed": 52970,
     "status": "error",
     "timestamp": 1545138007320,
     "user": {
      "displayName": "Cássia Sampaio",
      "photoUrl": "https://lh5.googleusercontent.com/-WZZI20Ykt7M/AAAAAAAAAAI/AAAAAAAAAlI/NPtGozqQ-38/s64/photo.jpg",
      "userId": "11135730660253677021"
     },
     "user_tz": 120
    },
    "id": "k5vzzzzF-pdh",
    "outputId": "8e285466-cda4-4e6b-c4a2-b2ba77f882d7"
   },
   "outputs": [
    {
     "data": {
      "text/plain": [
       "[array([[ 0.00927886,  0.03064074, -0.06874281, ...,  0.04026292,\n",
       "         -0.04643922,  0.02304983],\n",
       "        [ 0.00177039,  0.01719159, -0.03199739, ..., -0.03019108,\n",
       "          0.07265308, -0.00890136],\n",
       "        [-0.00112666,  0.01481988, -0.00362731, ..., -0.00213963,\n",
       "         -0.03386961,  0.03170851],\n",
       "        ...,\n",
       "        [ 0.06330126, -0.03768066,  0.06580237, ...,  0.07945216,\n",
       "          0.01732094, -0.05304563],\n",
       "        [ 0.07068977,  0.02515499,  0.03126472, ...,  0.01711445,\n",
       "          0.00388414, -0.01375429],\n",
       "        [ 0.07780433, -0.02836278,  0.02486101, ...,  0.01924247,\n",
       "          0.03449529, -0.0162335 ]], dtype=float32),\n",
       " array([ 5.63206077e-02, -7.98093006e-02, -9.29110590e-03, -2.04596464e-02,\n",
       "         6.21539578e-02, -2.20804643e-02, -2.19746642e-02,  1.10219773e-02,\n",
       "         1.18531696e-01,  6.86242357e-02, -1.06217517e-02, -1.62468124e-02,\n",
       "         6.20514043e-02, -1.84349658e-04,  7.18584135e-02,  1.07469693e-01,\n",
       "         2.61477120e-02, -1.55616533e-02,  6.45552948e-02, -2.42952053e-02,\n",
       "        -4.73262416e-03,  2.70752832e-02,  3.82070132e-02,  1.18508518e-01,\n",
       "        -1.39327049e-02,  2.15629060e-02, -8.83537461e-04, -5.24860248e-02,\n",
       "         3.92045416e-02,  2.49183886e-02, -3.88272814e-02,  9.67432633e-02,\n",
       "         3.14599425e-02, -1.56602208e-02, -4.50901538e-02, -1.20553384e-02,\n",
       "        -1.09626716e-02,  5.69579415e-02, -9.80271678e-03,  5.84527515e-02,\n",
       "         1.34103730e-01,  4.57278788e-02, -5.77227473e-02, -5.43237999e-02,\n",
       "        -5.52459508e-02,  5.38316406e-02, -4.92230915e-02,  1.10790938e-01,\n",
       "         5.19864075e-02,  7.78977796e-02,  1.57601103e-01, -8.41007195e-03,\n",
       "        -5.00056073e-02,  6.08207472e-03,  3.09112277e-02,  2.29054466e-02,\n",
       "         1.17759503e-01, -1.92063637e-02, -1.27293002e-02,  7.14200884e-02,\n",
       "        -1.12058327e-01, -1.63685735e-02, -6.58733957e-03, -6.94672996e-03,\n",
       "        -1.84633546e-02, -8.10491368e-02,  6.11229055e-02,  5.08917123e-02,\n",
       "         9.82164741e-02,  8.40958133e-02,  6.37567136e-03, -3.11514400e-02,\n",
       "         7.30365664e-02, -1.08533194e-02,  1.51680171e-01,  2.73273494e-02,\n",
       "         6.15495443e-02,  2.25204211e-02,  1.49650052e-02,  2.25636527e-01,\n",
       "        -1.06603689e-01, -8.55802074e-02,  9.71035883e-02,  2.90574692e-02,\n",
       "        -1.01361601e-02, -2.97602564e-02, -1.45061649e-02,  4.57615890e-02,\n",
       "         8.24406072e-02, -1.74635556e-02, -1.83091573e-02,  5.66504933e-02,\n",
       "         1.15383916e-01, -3.84389423e-02,  4.75743078e-02,  8.02271068e-02,\n",
       "        -1.25680510e-02,  8.88665486e-03, -5.04802577e-02, -1.66568272e-02,\n",
       "         3.08323149e-02,  9.62924883e-02,  7.32328594e-02,  1.79577060e-02,\n",
       "        -1.45414071e-02,  8.25691670e-02,  6.75998479e-02,  1.09363273e-01,\n",
       "        -1.05255909e-01,  5.03450222e-02,  1.20792175e-02, -6.04615435e-02,\n",
       "        -4.30702642e-02, -2.20613629e-02,  7.35926703e-02, -1.30472276e-02,\n",
       "         3.21833603e-02,  2.68037077e-02,  9.95671600e-02,  1.35652527e-01,\n",
       "        -1.71760321e-02, -1.50999641e-02, -9.77648888e-03, -1.37245432e-02,\n",
       "         4.79682954e-03,  1.12528533e-01,  9.64815244e-02,  5.89243993e-02,\n",
       "         1.47268951e-01,  7.01643825e-02,  2.98895687e-02, -1.07331865e-01,\n",
       "        -1.83732957e-02, -1.31481681e-02, -2.43917815e-02, -2.88194101e-02,\n",
       "         4.85069938e-02, -4.81516961e-03,  2.20689662e-02,  4.81306016e-02,\n",
       "        -1.93367898e-02, -8.19195956e-02, -1.47163915e-02,  7.48901367e-02,\n",
       "        -6.62855878e-02, -2.23902054e-02,  3.47922035e-02,  1.66112352e-02,\n",
       "         2.28342209e-02, -2.23318208e-02, -1.03774115e-01, -1.32059995e-02,\n",
       "         1.00635253e-01, -2.38820575e-02,  4.34883237e-02,  1.21335639e-02,\n",
       "         3.06865294e-02, -1.33016622e-02,  1.44282414e-03,  2.15305332e-02,\n",
       "         1.35049084e-02,  1.45208612e-01, -1.30810533e-02,  2.90245153e-02,\n",
       "         7.39985853e-02, -2.11232714e-02,  5.69149517e-02, -6.77919835e-02,\n",
       "        -1.45600326e-02,  1.65464394e-02,  3.38541605e-02,  8.29325914e-02,\n",
       "         7.54907131e-02,  9.65276286e-02,  7.25684166e-02,  7.99520314e-02,\n",
       "         1.37785956e-01,  1.59301944e-02,  5.37281437e-03,  7.04206824e-02,\n",
       "        -3.47429626e-02,  4.28059176e-02,  6.85636848e-02,  1.39929980e-01,\n",
       "        -2.34090574e-02,  5.98282441e-02, -5.38206622e-02,  7.46212527e-02,\n",
       "        -2.14959476e-02, -7.36577809e-02,  1.76943049e-01, -1.23774568e-02,\n",
       "        -1.82485618e-02, -1.38703873e-02, -1.71598755e-02,  8.39935392e-02,\n",
       "        -1.52666243e-02, -1.56017710e-02, -6.55009300e-02,  1.28367320e-01,\n",
       "         1.07853234e-01,  9.55575798e-03,  5.58919646e-02,  7.16798455e-02,\n",
       "         1.99719891e-02, -1.61052588e-02,  6.43452257e-03, -2.97428258e-02,\n",
       "         1.84652803e-03,  3.96816470e-02, -1.52319670e-02, -2.49934513e-02,\n",
       "         7.82017633e-02,  4.85705957e-02,  6.58836067e-02,  5.98720573e-02,\n",
       "         6.91797491e-03,  6.91021085e-02,  2.57069767e-02, -1.37324380e-02,\n",
       "        -2.24732282e-03, -2.16983259e-02,  9.23714414e-02,  7.19966367e-02,\n",
       "         1.13284796e-01, -4.95257378e-02, -1.09374002e-01, -8.08547717e-03,\n",
       "         9.84486192e-02, -8.84863213e-02,  1.00199074e-01,  1.89010337e-01,\n",
       "        -2.59500789e-03,  3.56248356e-02, -3.02932728e-02,  1.10760666e-01,\n",
       "         1.44731343e-01, -1.21746017e-02,  1.16448492e-01, -1.39241759e-02,\n",
       "        -1.98049676e-02,  1.06496938e-01, -9.06512141e-03, -1.71313956e-02,\n",
       "         1.79993995e-02,  7.51150846e-02,  8.34249631e-02,  5.59424646e-02,\n",
       "         6.52570054e-02,  3.90798226e-03,  1.13760002e-01,  2.09304574e-03,\n",
       "        -5.71339019e-03, -1.26092909e-02,  6.02080189e-02, -1.71857383e-02],\n",
       "       dtype=float32)]"
      ]
     },
     "execution_count": 11,
     "metadata": {},
     "output_type": "execute_result"
    }
   ],
   "source": [
    "pesos_camada_dense.shape\n",
    "pesos_camada_dense_zerados = np.zeros((784, 256))\n",
    "\n",
    "pesos_camada_dense_aleatorios = np.random.rand(784, 256)\n",
    "\n",
    "'''\n",
    "modelo.layers[1].set_weights(\n",
    "    [pesos_camada_dense_zerados, vieses_camada_dense]\n",
    ")\n",
    "'''\n",
    "\n",
    "'''modelo.layers[1].set_weights(\n",
    "    [pesos_camada_dense_aleatorios, vieses_camada_dense]\n",
    ")'''\n",
    "\n",
    "modelo.layers[1].get_weights()\n"
   ]
  },
  {
   "cell_type": "code",
   "execution_count": 12,
   "metadata": {
    "colab": {},
    "colab_type": "code",
    "id": "0nJSiAyI_-3a"
   },
   "outputs": [
    {
     "name": "stdout",
     "output_type": "stream",
     "text": [
      "Epoch 1/5\n",
      "1500/1500 [==============================] - 3s 2ms/step - loss: 0.4223 - accuracy: 0.8473 - val_loss: 0.3939 - val_accuracy: 0.8570racy: 0.84\n",
      "Epoch 2/5\n",
      "1500/1500 [==============================] - 2s 2ms/step - loss: 0.3733 - accuracy: 0.8629 - val_loss: 0.3657 - val_accuracy: 0.8657\n",
      "Epoch 3/5\n",
      "1500/1500 [==============================] - 2s 2ms/step - loss: 0.3486 - accuracy: 0.8717 - val_loss: 0.3423 - val_accuracy: 0.8750\n",
      "Epoch 4/5\n",
      "1500/1500 [==============================] - 2s 2ms/step - loss: 0.3284 - accuracy: 0.8771 - val_loss: 0.3510 - val_accuracy: 0.8729 loss: 0.3248 - accura - ETA: 0s - loss: 0.3280 - accuracy:  - ETA: 0s - loss: 0.3280 - ac\n",
      "Epoch 5/5\n",
      "1500/1500 [==============================] - 2s 2ms/step - loss: 0.3146 - accuracy: 0.8828 - val_loss: 0.3308 - val_accuracy: 0.8786\n"
     ]
    }
   ],
   "source": [
    "modelo.compile(optimizer='adam', \n",
    "               loss='sparse_categorical_crossentropy',\n",
    "               metrics=['accuracy'])\n",
    "\n",
    "historico = modelo.fit(imagens_treino, identificacoes_treino, epochs=5, validation_split=0.2)"
   ]
  },
  {
   "cell_type": "code",
   "execution_count": 15,
   "metadata": {
    "colab": {},
    "colab_type": "code",
    "id": "TqiDVI-aAi9k"
   },
   "outputs": [
    {
     "data": {
      "text/plain": [
       "<matplotlib.legend.Legend at 0x2998b5c1e80>"
      ]
     },
     "execution_count": 15,
     "metadata": {},
     "output_type": "execute_result"
    },
    {
     "data": {
      "image/png": "[encoded data removed]",
      "text/plain": [
       "<Figure size 432x288 with 1 Axes>"
      ]
     },
     "metadata": {
      "needs_background": "light"
     },
     "output_type": "display_data"
    }
   ],
   "source": [
    "plt.plot(historico.history['accuracy'])\n",
    "plt.plot(historico.history['val_accuracy'])\n",
    "plt.title('Acurácia por épocas')\n",
    "plt.xlabel('épocas')\n",
    "plt.ylabel('acurácia')\n",
    "plt.legend(['treino', 'validação'])\n"
   ]
  },
  {
   "cell_type": "code",
   "execution_count": 17,
   "metadata": {
    "colab": {
     "base_uri": "https://localhost:8080/",
     "height": 815
    },
    "colab_type": "code",
    "executionInfo": {
     "elapsed": 597,
     "status": "ok",
     "timestamp": 1545144456753,
     "user": {
      "displayName": "Cássia Sampaio",
      "photoUrl": "https://lh5.googleusercontent.com/-WZZI20Ykt7M/AAAAAAAAAAI/AAAAAAAAAlI/NPtGozqQ-38/s64/photo.jpg",
      "userId": "11135730660253677021"
     },
     "user_tz": 120
    },
    "id": "sELsC7XkFCei",
    "outputId": "1de3e550-e52b-4e0c-fff5-cb1981361c3c"
   },
   "outputs": [
    {
     "data": {
      "text/plain": [
       "{'name': 'sequential',\n",
       " 'layers': [{'class_name': 'InputLayer',\n",
       "   'config': {'batch_input_shape': (None, 28, 28),\n",
       "    'dtype': 'float32',\n",
       "    'sparse': False,\n",
       "    'ragged': False,\n",
       "    'name': 'flatten_input'}},\n",
       "  {'class_name': 'Flatten',\n",
       "   'config': {'name': 'flatten',\n",
       "    'trainable': True,\n",
       "    'batch_input_shape': (None, 28, 28),\n",
       "    'dtype': 'float32',\n",
       "    'data_format': 'channels_last'}},\n",
       "  {'class_name': 'Dense',\n",
       "   'config': {'name': 'dense',\n",
       "    'trainable': True,\n",
       "    'dtype': 'float32',\n",
       "    'units': 256,\n",
       "    'activation': 'relu',\n",
       "    'use_bias': True,\n",
       "    'kernel_initializer': {'class_name': 'GlorotUniform',\n",
       "     'config': {'seed': None}},\n",
       "    'bias_initializer': {'class_name': 'Zeros', 'config': {}},\n",
       "    'kernel_regularizer': None,\n",
       "    'bias_regularizer': None,\n",
       "    'activity_regularizer': None,\n",
       "    'kernel_constraint': None,\n",
       "    'bias_constraint': None}},\n",
       "  {'class_name': 'Dropout',\n",
       "   'config': {'name': 'dropout',\n",
       "    'trainable': True,\n",
       "    'dtype': 'float32',\n",
       "    'rate': 0.2,\n",
       "    'noise_shape': None,\n",
       "    'seed': None}},\n",
       "  {'class_name': 'Dense',\n",
       "   'config': {'name': 'dense_1',\n",
       "    'trainable': True,\n",
       "    'dtype': 'float32',\n",
       "    'units': 10,\n",
       "    'activation': 'softmax',\n",
       "    'use_bias': True,\n",
       "    'kernel_initializer': {'class_name': 'GlorotUniform',\n",
       "     'config': {'seed': None}},\n",
       "    'bias_initializer': {'class_name': 'Zeros', 'config': {}},\n",
       "    'kernel_regularizer': None,\n",
       "    'bias_regularizer': None,\n",
       "    'activity_regularizer': None,\n",
       "    'kernel_constraint': None,\n",
       "    'bias_constraint': None}}]}"
      ]
     },
     "execution_count": 17,
     "metadata": {},
     "output_type": "execute_result"
    }
   ],
   "source": [
    "modelo.get_config()"
   ]
  },
  {
   "cell_type": "code",
   "execution_count": 18,
   "metadata": {
    "colab": {},
    "colab_type": "code",
    "id": "4S8FoWQ1Ar_x"
   },
   "outputs": [
    {
     "data": {
      "text/plain": [
       "<matplotlib.legend.Legend at 0x2998b6bf7c0>"
      ]
     },
     "execution_count": 18,
     "metadata": {},
     "output_type": "execute_result"
    },
    {
     "data": {
      "image/png": "[encoded data removed]",
      "text/plain": [
       "<Figure size 432x288 with 1 Axes>"
      ]
     },
     "metadata": {
      "needs_background": "light"
     },
     "output_type": "display_data"
    }
   ],
   "source": [
    "plt.plot(historico.history['loss'])\n",
    "plt.plot(historico.history['val_loss'])\n",
    "plt.title('Perda por épocas')\n",
    "plt.xlabel('épocas')\n",
    "plt.ylabel('perda')\n",
    "plt.legend(['treino', 'validação'])"
   ]
  },
  {
   "cell_type": "code",
   "execution_count": 19,
   "metadata": {
    "colab": {},
    "colab_type": "code",
    "id": "Vuve5QcuF4eE"
   },
   "outputs": [
    {
     "data": {
      "text/plain": [
       "(256,)"
      ]
     },
     "execution_count": 19,
     "metadata": {},
     "output_type": "execute_result"
    }
   ],
   "source": [
    "vieses_camada_dense = modelo.layers[1].get_weights()[1]\n",
    "vieses_camada_dense.shape"
   ]
  },
  {
   "cell_type": "code",
   "execution_count": 20,
   "metadata": {
    "colab": {},
    "colab_type": "code",
    "id": "5lEZYFfHHfrx"
   },
   "outputs": [],
   "source": [
    "vieses_camada_dense_zerados = np.zeros((256,))\n",
    "modelo.layers[1].set_weights(\n",
    "    [pesos_camada_dense_aleatorios, vieses_camada_dense_zerados]\n",
    ")"
   ]
  },
  {
   "cell_type": "markdown",
   "metadata": {
    "colab_type": "text",
    "id": "4-RqzS88dgk_"
   },
   "source": [
    "Salvando e carregando o modelo treinado"
   ]
  },
  {
   "cell_type": "code",
   "execution_count": 21,
   "metadata": {
    "colab": {},
    "colab_type": "code",
    "id": "SVjmU41IELzX"
   },
   "outputs": [],
   "source": [
    "modelo.save('modelo.h5')\n",
    "modelo_salvo = load_model('modelo.h5')"
   ]
  },
  {
   "cell_type": "markdown",
   "metadata": {
    "colab_type": "text",
    "id": "SVxHO3opdnMb"
   },
   "source": [
    "Visualizando as acurácias de treino e validação por época"
   ]
  },
  {
   "cell_type": "code",
   "execution_count": 26,
   "metadata": {
    "colab": {},
    "colab_type": "code",
    "id": "pNc0JsWZY1Ie"
   },
   "outputs": [
    {
     "data": {
      "text/plain": [
       "<matplotlib.legend.Legend at 0x2998bde14c0>"
      ]
     },
     "execution_count": 26,
     "metadata": {},
     "output_type": "execute_result"
    },
    {
     "data": {
      "image/png": "[encoded data removed]",
      "text/plain": [
       "<Figure size 432x288 with 1 Axes>"
      ]
     },
     "metadata": {
      "needs_background": "light"
     },
     "output_type": "display_data"
    }
   ],
   "source": [
    "plt.plot(historico.history['accuracy'])\n",
    "plt.plot(historico.history['val_accuracy'])\n",
    "plt.title('Acurácia por épocas')\n",
    "plt.xlabel('épocas')\n",
    "plt.ylabel('acurácia')\n",
    "plt.legend(['treino', 'validação'])\n"
   ]
  },
  {
   "cell_type": "markdown",
   "metadata": {
    "colab_type": "text",
    "id": "ZKxkWNawdzZh"
   },
   "source": [
    "Visualizando as perdas de treino e validação por época"
   ]
  },
  {
   "cell_type": "code",
   "execution_count": 23,
   "metadata": {
    "colab": {},
    "colab_type": "code",
    "id": "2ugG3Vusg_Va"
   },
   "outputs": [
    {
     "data": {
      "text/plain": [
       "<matplotlib.legend.Legend at 0x2998b770970>"
      ]
     },
     "execution_count": 23,
     "metadata": {},
     "output_type": "execute_result"
    },
    {
     "data": {
      "image/png": "[encoded data removed]",
      "text/plain": [
       "<Figure size 432x288 with 1 Axes>"
      ]
     },
     "metadata": {
      "needs_background": "light"
     },
     "output_type": "display_data"
    }
   ],
   "source": [
    "plt.plot(historico.history['loss'])\n",
    "plt.plot(historico.history['val_loss'])\n",
    "plt.title('Perda por épocas')\n",
    "plt.xlabel('épocas')\n",
    "plt.ylabel('perda')\n",
    "plt.legend(['treino', 'validação'])"
   ]
  },
  {
   "cell_type": "markdown",
   "metadata": {
    "colab_type": "text",
    "id": "JFXG1oibd8E8"
   },
   "source": [
    "Testando o modelo e o modelo salvo"
   ]
  },
  {
   "cell_type": "code",
   "execution_count": 24,
   "metadata": {
    "colab": {},
    "colab_type": "code",
    "id": "I2kLEHPYUdhd"
   },
   "outputs": [
    {
     "name": "stdout",
     "output_type": "stream",
     "text": [
      "resultado teste: 5\n",
      "número da imagem de teste: 2\n",
      "resultado teste modelo salvo: 5\n",
      "número da imagem de teste: 2\n"
     ]
    }
   ],
   "source": [
    "testes = modelo.predict(imagens_teste)\n",
    "print('resultado teste:', np.argmax(testes[1]))\n",
    "print('número da imagem de teste:', identificacoes_teste[1])\n",
    "\n",
    "testes_modelo_salvo = modelo_salvo.predict(imagens_teste)\n",
    "print('resultado teste modelo salvo:', np.argmax(testes_modelo_salvo[1]))\n",
    "print('número da imagem de teste:', identificacoes_teste[1])"
   ]
  },
  {
   "cell_type": "markdown",
   "metadata": {
    "colab_type": "text",
    "id": "U64QMV1GeCUr"
   },
   "source": [
    "Avaliando o modelo"
   ]
  },
  {
   "cell_type": "code",
   "execution_count": 25,
   "metadata": {
    "colab": {},
    "colab_type": "code",
    "id": "wsbr9WqyXQ2G"
   },
   "outputs": [
    {
     "name": "stdout",
     "output_type": "stream",
     "text": [
      "313/313 [==============================] - 0s 1ms/step - loss: 249556.2031 - accuracy: 0.1000\n",
      "Perda do teste: 249556.203125\n",
      "Acurácia do teste: 0.10000000149011612\n"
     ]
    }
   ],
   "source": [
    "perda_teste, acuracia_teste = modelo.evaluate(imagens_teste, identificacoes_teste)\n",
    "print('Perda do teste:', perda_teste)\n",
    "print('Acurácia do teste:', acuracia_teste)"
   ]
  },
  {
   "cell_type": "code",
   "execution_count": null,
   "metadata": {},
   "outputs": [],
   "source": []
  }
 ],
 "metadata": {
  "colab": {
   "collapsed_sections": [],
   "name": "Segundo_projeto_aula5.ipynb",
   "provenance": [
    {
     "file_id": "1w-SdjiC3XEAlFe6PaYiFU-NL-c9sGroF",
     "timestamp": 1545061684493
    },
    {
     "file_id": "1XJcYr2kO2iMOxUFklsI8Nov8DHfWaN6F",
     "timestamp": 1545061633428
    },
    {
     "file_id": "1t03BioBUhAKHpvQmooWdnjxgkj-MAF7D",
     "timestamp": 1544203981880
    },
    {
     "file_id": "1-pv9T-KI09_jiMUe4MErOnAHR3IFfjtS",
     "timestamp": 1544114456244
    },
    {
     "file_id": "1Hg5iQPzIw9n7ioWeD9Nv3AnAPFDA0bE_",
     "timestamp": 1538632904381
    }
   ],
   "version": "0.3.2"
  },
  "kernelspec": {
   "display_name": "Python 3 (ipykernel)",
   "language": "python",
   "name": "python3"
  },
  "language_info": {
   "codemirror_mode": {
    "name": "ipython",
    "version": 3
   },
   "file_extension": ".py",
   "mimetype": "text/x-python",
   "name": "python",
   "nbconvert_exporter": "python",
   "pygments_lexer": "ipython3",
   "version": "3.9.7"
  }
 },
 "nbformat": 4,
 "nbformat_minor": 1
}
