{
 "cells": [
  {
   "cell_type": "markdown",
   "source": [
    "# Aula 01 - Introdução à classificação"
   ],
   "metadata": {}
  },
  {
   "cell_type": "markdown",
   "source": [
    "### video 1"
   ],
   "metadata": {}
  },
  {
   "cell_type": "code",
   "execution_count": 16,
   "source": [
    "from sklearn.svm import LinearSVC\r\n",
    "from sklearn.metrics import accuracy_score"
   ],
   "outputs": [],
   "metadata": {}
  },
  {
   "cell_type": "code",
   "execution_count": 2,
   "source": [
    "# Features = [Pelo longo, Perna curta, Faz auau]\r\n",
    "porco1 = [0,1,0]\r\n",
    "porco2 = [0,1,1]\r\n",
    "porco3 = [1,1,0]\r\n",
    "\r\n",
    "cachorro1 = [0,1,1]\r\n",
    "cachorro2 = [1,0,1]\r\n",
    "cachorro3 = [1,1,1]\r\n",
    "\r\n",
    "# 1 = porco\r\n",
    "dados = [porco1, porco2, porco3, cachorro1, cachorro2, cachorro3]\r\n",
    "classes = [1,1,1,0,0,0]"
   ],
   "outputs": [],
   "metadata": {}
  },
  {
   "cell_type": "code",
   "execution_count": 3,
   "source": [
    "model = LinearSVC()\r\n",
    "\r\n",
    "model.fit(dados, classes)"
   ],
   "outputs": [
    {
     "output_type": "execute_result",
     "data": {
      "text/plain": [
       "LinearSVC()"
      ]
     },
     "metadata": {},
     "execution_count": 3
    }
   ],
   "metadata": {}
  },
  {
   "cell_type": "code",
   "execution_count": 5,
   "source": [
    "animal_misterioso = [1,1,1]\r\n",
    "model.predict([animal_misterioso])"
   ],
   "outputs": [
    {
     "output_type": "execute_result",
     "data": {
      "text/plain": [
       "array([0])"
      ]
     },
     "metadata": {},
     "execution_count": 5
    }
   ],
   "metadata": {}
  },
  {
   "cell_type": "code",
   "execution_count": 9,
   "source": [
    "misterio1 = [1,1,1]\r\n",
    "misterio2 = [1,1,0]\r\n",
    "misterio3 = [0,1,1]\r\n",
    "\r\n",
    "testes = [misterio1, misterio2, misterio3]\r\n",
    "previsoes = model.predict(testes)"
   ],
   "outputs": [],
   "metadata": {}
  },
  {
   "cell_type": "code",
   "execution_count": 14,
   "source": [
    "testes_classes = [0,1,1]\r\n",
    "corretos = (previsoes == testes_classes).sum()\r\n",
    "total = len(testes)\r\n",
    "taxa_de_acerto = corretos/total\r\n",
    "print('Taxa de acerto: {:.2f}%'.format(taxa_de_acerto*100))"
   ],
   "outputs": [
    {
     "output_type": "stream",
     "name": "stdout",
     "text": [
      "Taxa de acerto: 66.67%\n"
     ]
    }
   ],
   "metadata": {}
  },
  {
   "cell_type": "code",
   "execution_count": 17,
   "source": [
    "taxa_de_acerto = accuracy_score(testes_classes, previsoes)\r\n",
    "\r\n",
    "print('Taxa de acerto: {:.2f}%'.format(taxa_de_acerto*100))"
   ],
   "outputs": [
    {
     "output_type": "stream",
     "name": "stdout",
     "text": [
      "Taxa de acerto: 66.67%\n"
     ]
    }
   ],
   "metadata": {}
  },
  {
   "cell_type": "markdown",
   "source": [
    "### video 2"
   ],
   "metadata": {}
  },
  {
   "cell_type": "code",
   "execution_count": null,
   "source": [
    "dados = [porco1, porco2, porco3, cachorro1, cachorro2, cachorro3]\r\n",
    "classes = [1,1,1,0,0,0]\r\n",
    "\r\n",
    "treino_x = dados\r\n",
    "treino_y = classes"
   ],
   "outputs": [],
   "metadata": {}
  }
 ],
 "metadata": {
  "orig_nbformat": 4,
  "language_info": {
   "name": "python",
   "version": "3.9.7",
   "mimetype": "text/x-python",
   "codemirror_mode": {
    "name": "ipython",
    "version": 3
   },
   "pygments_lexer": "ipython3",
   "nbconvert_exporter": "python",
   "file_extension": ".py"
  },
  "kernelspec": {
   "name": "python3",
   "display_name": "Python 3.9.7 64-bit (windows store)"
  },
  "interpreter": {
   "hash": "83740a2ab86890a965e745bd28bc1469fc705fce27dd53a530a153c618b96025"
  }
 },
 "nbformat": 4,
 "nbformat_minor": 2
}